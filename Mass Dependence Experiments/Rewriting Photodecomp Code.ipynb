{
 "cells": [
  {
   "cell_type": "code",
   "execution_count": 1,
   "id": "0bae1a56-c3d7-4562-887a-d5ce4ae027be",
   "metadata": {
    "tags": []
   },
   "outputs": [
    {
     "name": "stdout",
     "output_type": "stream",
     "text": [
      "Analysis performed using Photodecomposotion Analysis Version 2.8 Created by Niall Gushue\n",
      "\n",
      "      Version 2.8.1\n",
      "         - Added ratevweight which will plot the weight vs time\n",
      "         - Added weighted linear fit (THIS TOOK FOREVER)\n",
      "      \n"
     ]
    }
   ],
   "source": [
    "from NewGushuePhotodecomp import *"
   ]
  },
  {
   "cell_type": "code",
   "execution_count": 2,
   "id": "cb177f01-eb66-4d9a-9be1-49892d5c4edc",
   "metadata": {
    "tags": []
   },
   "outputs": [],
   "source": [
    "time_label = time_label = ['Stock','t = 0 min','t = 5 min','t = 15 min','t = 35 min','t = 75 min']\n",
    "Decomp_5mg_2 = Spectrum('385 LED USR AR 5mg 6-17-24.xlsx', legend_labels = time_label, avg = 'yes')"
   ]
  },
  {
   "cell_type": "code",
   "execution_count": null,
   "id": "1e4c5a3e-66e7-48f8-8500-68da2a3dd161",
   "metadata": {},
   "outputs": [],
   "source": []
  }
 ],
 "metadata": {
  "kernelspec": {
   "display_name": "Python 3 (ipykernel)",
   "language": "python",
   "name": "python3"
  },
  "language_info": {
   "codemirror_mode": {
    "name": "ipython",
    "version": 3
   },
   "file_extension": ".py",
   "mimetype": "text/x-python",
   "name": "python",
   "nbconvert_exporter": "python",
   "pygments_lexer": "ipython3",
   "version": "3.11.5"
  }
 },
 "nbformat": 4,
 "nbformat_minor": 5
}
